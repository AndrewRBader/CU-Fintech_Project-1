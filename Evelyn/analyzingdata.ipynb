{
 "cells": [
  {
   "cell_type": "code",
   "execution_count": 14,
   "metadata": {},
   "outputs": [],
   "source": [
    "import pandas as pd\n",
    "import numpy as np \n",
    "from pathlib import Path\n",
    "#import hvplot.pandas "
   ]
  },
  {
   "cell_type": "code",
   "execution_count": 15,
   "metadata": {},
   "outputs": [],
   "source": [
    "start_date='2001-02-28'\n",
    "end_date=  '2007-11-30'\n",
    "\n",
    "datalist={\n",
    "'S&P 500 Historical- Daily':                     ['new_sandp_500','sp500_df']\n",
    ",'CBOE Volatility Index (VIX)':                  ['vix_clean','vix_df']\n",
    ",'Bonds: Treasury Yield 10 Years (TNX)':         ['tnx_clean','tnx_df']\n",
    ",'Gold: LBMA Gold Price':                        ['lmba_gold_clean','gold_df']\n",
    ",'US Dollar/USDX Index (DX-Y.NYB)':              ['usd_index_clean','usd_df']\n",
    ",'Technology Sector: SPDR Fund (XLK) 1998':      ['technology_sector_clean','tech_df']\n",
    ",'Financial Sector: SPDR Fund (XLF) 1998':       ['financial_sector_clean','fin_df']\n",
    ",'Energy Sector: SPDR Fund (XLE) 1998':          ['energy_sector_clean','engy_df']\n",
    ",'Utilities Sector: SPDR Fund (XLU) 1998':       ['utilities_sector_clean','utils_df']\n",
    ",'Health Care Sector: SPDR Fund (XLV) 1998':     ['healthcare_sector_clean','health_df']\n",
    ",'US Real Estate ETF: iShares (IYR)':            ['real_estate_etf_clean','prop_df']\n",
    ",'Oil Prices: Crude Oil WTI Futures':            ['oil_df','oil_df']\n",
    "}\n",
    "\n",
    "df_list =[]\n",
    "\n",
    "for items in datalist.items():\n",
    "    z=list(items)\n",
    "    if items[1][1] == 'gold_df':\n",
    "        filename=\"../Resources/clean-data/\"+z[1][0]+\".csv\"\n",
    "        z[1][1]=pd.read_csv(Path(filename),parse_dates=['Date'],infer_datetime_format=True)\n",
    "        z[1][1]=z[1][1].loc[(z[1][1]['Date']>=start_date) & (z[1][1]['Date']<=end_date)].sort_values('Date')\n",
    "        z[1][1]=z[1][1].drop(['Open'],axis=1) #Original data for gold is different than others\n",
    "        z[1][1]=z[1][1].rename({'Close':'Adj Close'},axis=1) #Original data for gold is different than others\n",
    "        z[1][1]=z[1][1].set_index('Date')\n",
    "        df_list.append(z[1][1])\n",
    "    else:\n",
    "        filename=\"../Resources/clean-data/\"+z[1][0]+\".csv\"\n",
    "        z[1][1]=pd.read_csv(Path(filename),parse_dates=['Date'],infer_datetime_format=True)\n",
    "        z[1][1]=z[1][1].loc[(z[1][1]['Date']>=start_date) & (z[1][1]['Date']<=end_date)].sort_values('Date')\n",
    "        z[1][1]=z[1][1].drop(['Open','High','Low','Volume','Close'],axis=1)\n",
    "        z[1][1]=z[1][1].set_index('Date')\n",
    "        df_list.append(z[1][1])"
   ]
  },
  {
   "cell_type": "code",
   "execution_count": 9,
   "metadata": {},
   "outputs": [],
   "source": [
    "df_list_new=df_list ## Change to 0 to include S&P 500"
   ]
  },
  {
   "cell_type": "code",
   "execution_count": 16,
   "metadata": {},
   "outputs": [
    {
     "ename": "InvalidIndexError",
     "evalue": "Reindexing only valid with uniquely valued Index objects",
     "output_type": "error",
     "traceback": [
      "\u001b[1;31m---------------------------------------------------------------------------\u001b[0m",
      "\u001b[1;31mInvalidIndexError\u001b[0m                         Traceback (most recent call last)",
      "Cell \u001b[1;32mIn[16], line 3\u001b[0m\n\u001b[0;32m      1\u001b[0m df_list_new\u001b[39m=\u001b[39mdf_list\n\u001b[1;32m----> 3\u001b[0m concat_df\u001b[39m=\u001b[39mpd\u001b[39m.\u001b[39;49mconcat(df_list_new,axis\u001b[39m=\u001b[39;49m\u001b[39m1\u001b[39;49m,join\u001b[39m=\u001b[39;49m\u001b[39m'\u001b[39;49m\u001b[39minner\u001b[39;49m\u001b[39m'\u001b[39;49m)\n\u001b[0;32m      5\u001b[0m concat_df\u001b[39m.\u001b[39mcolumns\u001b[39m.\u001b[39mvalues[\u001b[39m0\u001b[39m] \u001b[39m=\u001b[39m\u001b[39m'\u001b[39m\u001b[39msp500_close\u001b[39m\u001b[39m'\u001b[39m\n\u001b[0;32m      6\u001b[0m concat_df\u001b[39m.\u001b[39mcolumns\u001b[39m.\u001b[39mvalues[\u001b[39m1\u001b[39m] \u001b[39m=\u001b[39m\u001b[39m'\u001b[39m\u001b[39mvix_close\u001b[39m\u001b[39m'\u001b[39m\n",
      "File \u001b[1;32m~\\AppData\\Local\\Packages\\PythonSoftwareFoundation.Python.3.10_qbz5n2kfra8p0\\LocalCache\\local-packages\\Python310\\site-packages\\pandas\\util\\_decorators.py:331\u001b[0m, in \u001b[0;36mdeprecate_nonkeyword_arguments.<locals>.decorate.<locals>.wrapper\u001b[1;34m(*args, **kwargs)\u001b[0m\n\u001b[0;32m    325\u001b[0m \u001b[39mif\u001b[39;00m \u001b[39mlen\u001b[39m(args) \u001b[39m>\u001b[39m num_allow_args:\n\u001b[0;32m    326\u001b[0m     warnings\u001b[39m.\u001b[39mwarn(\n\u001b[0;32m    327\u001b[0m         msg\u001b[39m.\u001b[39mformat(arguments\u001b[39m=\u001b[39m_format_argument_list(allow_args)),\n\u001b[0;32m    328\u001b[0m         \u001b[39mFutureWarning\u001b[39;00m,\n\u001b[0;32m    329\u001b[0m         stacklevel\u001b[39m=\u001b[39mfind_stack_level(),\n\u001b[0;32m    330\u001b[0m     )\n\u001b[1;32m--> 331\u001b[0m \u001b[39mreturn\u001b[39;00m func(\u001b[39m*\u001b[39margs, \u001b[39m*\u001b[39m\u001b[39m*\u001b[39mkwargs)\n",
      "File \u001b[1;32m~\\AppData\\Local\\Packages\\PythonSoftwareFoundation.Python.3.10_qbz5n2kfra8p0\\LocalCache\\local-packages\\Python310\\site-packages\\pandas\\core\\reshape\\concat.py:381\u001b[0m, in \u001b[0;36mconcat\u001b[1;34m(objs, axis, join, ignore_index, keys, levels, names, verify_integrity, sort, copy)\u001b[0m\n\u001b[0;32m    159\u001b[0m \u001b[39m\"\"\"\u001b[39;00m\n\u001b[0;32m    160\u001b[0m \u001b[39mConcatenate pandas objects along a particular axis.\u001b[39;00m\n\u001b[0;32m    161\u001b[0m \n\u001b[1;32m   (...)\u001b[0m\n\u001b[0;32m    366\u001b[0m \u001b[39m1   3   4\u001b[39;00m\n\u001b[0;32m    367\u001b[0m \u001b[39m\"\"\"\u001b[39;00m\n\u001b[0;32m    368\u001b[0m op \u001b[39m=\u001b[39m _Concatenator(\n\u001b[0;32m    369\u001b[0m     objs,\n\u001b[0;32m    370\u001b[0m     axis\u001b[39m=\u001b[39maxis,\n\u001b[1;32m   (...)\u001b[0m\n\u001b[0;32m    378\u001b[0m     sort\u001b[39m=\u001b[39msort,\n\u001b[0;32m    379\u001b[0m )\n\u001b[1;32m--> 381\u001b[0m \u001b[39mreturn\u001b[39;00m op\u001b[39m.\u001b[39;49mget_result()\n",
      "File \u001b[1;32m~\\AppData\\Local\\Packages\\PythonSoftwareFoundation.Python.3.10_qbz5n2kfra8p0\\LocalCache\\local-packages\\Python310\\site-packages\\pandas\\core\\reshape\\concat.py:612\u001b[0m, in \u001b[0;36m_Concatenator.get_result\u001b[1;34m(self)\u001b[0m\n\u001b[0;32m    610\u001b[0m         obj_labels \u001b[39m=\u001b[39m obj\u001b[39m.\u001b[39maxes[\u001b[39m1\u001b[39m \u001b[39m-\u001b[39m ax]\n\u001b[0;32m    611\u001b[0m         \u001b[39mif\u001b[39;00m \u001b[39mnot\u001b[39;00m new_labels\u001b[39m.\u001b[39mequals(obj_labels):\n\u001b[1;32m--> 612\u001b[0m             indexers[ax] \u001b[39m=\u001b[39m obj_labels\u001b[39m.\u001b[39;49mget_indexer(new_labels)\n\u001b[0;32m    614\u001b[0m     mgrs_indexers\u001b[39m.\u001b[39mappend((obj\u001b[39m.\u001b[39m_mgr, indexers))\n\u001b[0;32m    616\u001b[0m new_data \u001b[39m=\u001b[39m concatenate_managers(\n\u001b[0;32m    617\u001b[0m     mgrs_indexers, \u001b[39mself\u001b[39m\u001b[39m.\u001b[39mnew_axes, concat_axis\u001b[39m=\u001b[39m\u001b[39mself\u001b[39m\u001b[39m.\u001b[39mbm_axis, copy\u001b[39m=\u001b[39m\u001b[39mself\u001b[39m\u001b[39m.\u001b[39mcopy\n\u001b[0;32m    618\u001b[0m )\n",
      "File \u001b[1;32m~\\AppData\\Local\\Packages\\PythonSoftwareFoundation.Python.3.10_qbz5n2kfra8p0\\LocalCache\\local-packages\\Python310\\site-packages\\pandas\\core\\indexes\\base.py:3905\u001b[0m, in \u001b[0;36mIndex.get_indexer\u001b[1;34m(self, target, method, limit, tolerance)\u001b[0m\n\u001b[0;32m   3902\u001b[0m \u001b[39mself\u001b[39m\u001b[39m.\u001b[39m_check_indexing_method(method, limit, tolerance)\n\u001b[0;32m   3904\u001b[0m \u001b[39mif\u001b[39;00m \u001b[39mnot\u001b[39;00m \u001b[39mself\u001b[39m\u001b[39m.\u001b[39m_index_as_unique:\n\u001b[1;32m-> 3905\u001b[0m     \u001b[39mraise\u001b[39;00m InvalidIndexError(\u001b[39mself\u001b[39m\u001b[39m.\u001b[39m_requires_unique_msg)\n\u001b[0;32m   3907\u001b[0m \u001b[39mif\u001b[39;00m \u001b[39mlen\u001b[39m(target) \u001b[39m==\u001b[39m \u001b[39m0\u001b[39m:\n\u001b[0;32m   3908\u001b[0m     \u001b[39mreturn\u001b[39;00m np\u001b[39m.\u001b[39marray([], dtype\u001b[39m=\u001b[39mnp\u001b[39m.\u001b[39mintp)\n",
      "\u001b[1;31mInvalidIndexError\u001b[0m: Reindexing only valid with uniquely valued Index objects"
     ]
    }
   ],
   "source": [
    "df_list_new=df_list\n",
    "\n",
    "concat_df=pd.concat(df_list_new,axis=1,join='inner')\n",
    "\n",
    "concat_df.columns.values[0] ='sp500_close'\n",
    "concat_df.columns.values[1] ='vix_close'\n",
    "concat_df.columns.values[2] ='tnx_close'\n",
    "concat_df.columns.values[3] ='gold_close'\n",
    "concat_df.columns.values[4] ='usd_close'\n",
    "concat_df.columns.values[5] ='tech_close'\n",
    "concat_df.columns.values[6] ='fin_close'\n",
    "concat_df.columns.values[7] ='engy_close'\n",
    "concat_df.columns.values[8] ='utils_close'\n",
    "concat_df.columns.values[9] ='health_close'\n",
    "concat_df.columns.values[10]='prop_close'\n",
    "concat_df.columns.values[11]='oil_close'"
   ]
  },
  {
   "cell_type": "code",
   "execution_count": 19,
   "metadata": {},
   "outputs": [
    {
     "ename": "NameError",
     "evalue": "name 'concat_df' is not defined",
     "output_type": "error",
     "traceback": [
      "\u001b[1;31m---------------------------------------------------------------------------\u001b[0m",
      "\u001b[1;31mNameError\u001b[0m                                 Traceback (most recent call last)",
      "Cell \u001b[1;32mIn[19], line 1\u001b[0m\n\u001b[1;32m----> 1\u001b[0m matrix\u001b[39m=\u001b[39mconcat_df\u001b[39m.\u001b[39mcorr()\n\u001b[0;32m      2\u001b[0m matrix\n",
      "\u001b[1;31mNameError\u001b[0m: name 'concat_df' is not defined"
     ]
    }
   ],
   "source": [
    "matrix=concat_df.corr()\n",
    "matrix"
   ]
  }
 ],
 "metadata": {
  "kernelspec": {
   "display_name": "Python (dev)",
   "language": "python",
   "name": "dev"
  },
  "language_info": {
   "codemirror_mode": {
    "name": "ipython",
    "version": 3
   },
   "file_extension": ".py",
   "mimetype": "text/x-python",
   "name": "python",
   "nbconvert_exporter": "python",
   "pygments_lexer": "ipython3",
   "version": "3.10.9"
  },
  "orig_nbformat": 4,
  "vscode": {
   "interpreter": {
    "hash": "aa51611ed5477d667cb7313a55e375293cca4e95517bf449571bd25511b1bdc8"
   }
  }
 },
 "nbformat": 4,
 "nbformat_minor": 2
}
